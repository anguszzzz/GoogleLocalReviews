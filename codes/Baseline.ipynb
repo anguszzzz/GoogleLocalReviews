{
 "cells": [
  {
   "cell_type": "code",
   "execution_count": 1,
   "metadata": {},
   "outputs": [],
   "source": [
    "from sklearn.model_selection import train_test_split\n",
    "from random import shuffle\n",
    "from collections import defaultdict"
   ]
  },
  {
   "cell_type": "code",
   "execution_count": 4,
   "metadata": {},
   "outputs": [],
   "source": [
    "allReviews = []\n",
    "reviewCount = 0\n",
    "with open('../CA_reviews.txt',encoding='utf-8') as f:\n",
    "    for l in f:\n",
    "        allReviews.append(eval(l))\n",
    "        \n",
    "middleSet,testSet = train_test_split(allReviews,test_size=0.2)\n",
    "trainSet,validSet = train_test_split(middleSet,test_size=0.125)"
   ]
  },
  {
   "cell_type": "code",
   "execution_count": 5,
   "metadata": {},
   "outputs": [
    {
     "name": "stdout",
     "output_type": "stream",
     "text": [
      "Mean Square Error on validation set is :  1.4886141568372078\n",
      "Mean Square Error on testing set is :  1.4904633195839296\n"
     ]
    }
   ],
   "source": [
    "allRatings = []\n",
    "userRatings = defaultdict(list)\n",
    "\n",
    "for l in trainSet:\n",
    "    rating, user, place = l['rating'], l['gPlusUserId'], l['gPlusPlaceId']\n",
    "    allRatings.append(rating)\n",
    "    userRatings[user].append(rating)\n",
    "\n",
    "globalAverage = sum(allRatings) / len(allRatings)\n",
    "userAverage = defaultdict(int)\n",
    "for u in userRatings:\n",
    "    userAverage[u] = sum(userRatings[u]) / len(userRatings[u])\n",
    "    \n",
    "    \n",
    "valid_MSE = 0\n",
    "for l in validSet:\n",
    "    currRating, currUser = l['rating'], l['gPlusUserId']\n",
    "    if currUser in userAverage:\n",
    "        valid_MSE += (currRating - userAverage[currUser]) ** 2\n",
    "    else:\n",
    "        valid_MSE += (currRating - globalAverage) ** 2\n",
    "\n",
    "valid_MSE /= len(validSet)\n",
    "\n",
    "print(\"Mean Square Error on validation set is : \", valid_MSE)\n",
    "    \n",
    "MSE = 0\n",
    "for l in testSet:\n",
    "    currRating, currUser = l['rating'], l['gPlusUserId']\n",
    "    if currUser in userAverage:\n",
    "        MSE += (currRating - userAverage[currUser]) ** 2\n",
    "    else:\n",
    "        MSE += (currRating - globalAverage) ** 2\n",
    "\n",
    "MSE /= len(testSet)\n",
    "\n",
    "print(\"Mean Square Error on testing set is : \", MSE)"
   ]
  }
 ],
 "metadata": {
  "kernelspec": {
   "display_name": "Python 3",
   "language": "python",
   "name": "python3"
  },
  "language_info": {
   "codemirror_mode": {
    "name": "ipython",
    "version": 3
   },
   "file_extension": ".py",
   "mimetype": "text/x-python",
   "name": "python",
   "nbconvert_exporter": "python",
   "pygments_lexer": "ipython3",
   "version": "3.7.3"
  }
 },
 "nbformat": 4,
 "nbformat_minor": 2
}
