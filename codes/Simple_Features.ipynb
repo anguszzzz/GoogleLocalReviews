{
 "cells": [
  {
   "cell_type": "code",
   "execution_count": 1,
   "metadata": {},
   "outputs": [],
   "source": [
    "from collections import defaultdict,Counter\n",
    "from random import shuffle\n",
    "from sklearn.model_selection import train_test_split\n",
    "import numpy\n",
    "import urllib\n",
    "import scipy.optimize\n",
    "import random\n",
    "from collections import defaultdict\n",
    "import nltk\n",
    "import string\n",
    "from nltk.stem.porter import *\n",
    "from sklearn import linear_model"
   ]
  },
  {
   "cell_type": "code",
   "execution_count": 2,
   "metadata": {},
   "outputs": [],
   "source": [
    "allReviews = []\n",
    "with open('../CA_reviews.txt',encoding='utf-8') as f:\n",
    "    for l in f:\n",
    "        allReviews.append(eval(l))\n",
    "            \n",
    "middleSet,testSet = train_test_split(allReviews,test_size=0.2)\n",
    "trainSet,validSet = train_test_split(middleSet,test_size=0.125)"
   ]
  },
  {
   "cell_type": "code",
   "execution_count": 3,
   "metadata": {},
   "outputs": [],
   "source": [
    "def get_rating(data):\n",
    "    rating_list = []\n",
    "    for i in data:\n",
    "        if i['reviewTime'] is None or i['gps'] is None:\n",
    "            continue\n",
    "        rating_list.append(i['rating'] if i['rating'] is not None else 0)\n",
    "    return rating_list\n",
    "\n",
    "# get_rating(validSet)"
   ]
  },
  {
   "cell_type": "code",
   "execution_count": 4,
   "metadata": {},
   "outputs": [],
   "source": [
    "def get_feature(data):\n",
    "    feature_list = []\n",
    "    for i in data:\n",
    "        if i['reviewTime'] is None or i['gps'] is None:\n",
    "            continue\n",
    "        temp = []\n",
    "        temp.append(0 if i['reviewText'] == None else len(i['reviewText']))\n",
    "        temp.append(i['gps'][0])\n",
    "        temp.append(i['gps'][1])\n",
    "        temp.append(int(i['reviewTime'].split(' ')[-1]))\n",
    "#         temp.append(int(i['gPlusPlaceId']))\n",
    "#         temp.append(int(i['gPlusUserId']))\n",
    "        feature_list.append(temp)\n",
    "    return feature_list\n",
    "# get_feature(validSet)"
   ]
  },
  {
   "cell_type": "code",
   "execution_count": 5,
   "metadata": {},
   "outputs": [],
   "source": [
    "def get_mse(ans, label):\n",
    "    mse = 0\n",
    "    for i,j in zip(ans, label):\n",
    "        mse += (i - j) ** 2\n",
    "    mse /= len(ans)\n",
    "    return mse"
   ]
  },
  {
   "cell_type": "code",
   "execution_count": 6,
   "metadata": {},
   "outputs": [],
   "source": [
    "X_train = get_feature(trainSet)\n",
    "y_train = get_rating(trainSet)\n",
    "X_valid = get_feature(validSet)\n",
    "y_valid = get_rating(validSet)\n",
    "X_test = get_feature(testSet)\n",
    "y_test = get_rating(testSet)"
   ]
  },
  {
   "cell_type": "code",
   "execution_count": 7,
   "metadata": {},
   "outputs": [],
   "source": [
    "from sklearn.metrics import accuracy_score\n",
    "import xgboost as xgb"
   ]
  },
  {
   "cell_type": "code",
   "execution_count": 8,
   "metadata": {},
   "outputs": [],
   "source": [
    "model = xgb.XGBRegressor(max_depth=10, learning_rate=0.5, n_estimators=80, silent=False, objective='reg:squarederror')\n",
    "model.fit(X_train, y_train)\n",
    "ans = model.predict(X_test)\n",
    "# score_ensemble = accuracy_score(ans, y_test)"
   ]
  },
  {
   "cell_type": "code",
   "execution_count": 9,
   "metadata": {},
   "outputs": [],
   "source": [
    "best_model = None\n",
    "best_mse = 10\n",
    "def grid_search(depth, rate, estimators):\n",
    "    temp_mse = best_mse\n",
    "    model = xgb.XGBRegressor(max_depth=depth, learning_rate=rate, n_estimators=estimators, silent=False, objective='reg:squarederror')\n",
    "    model.fit(X_train, y_train)\n",
    "    ans = model.predict(X_valid)\n",
    "    return model, ans\n",
    "        \n",
    "        \n",
    "        \n",
    "depth = [5,10,15]\n",
    "rate = [0.1,0.3,0.6,0.9]\n",
    "estimators=[40,80,160]\n",
    "\n",
    "for i in depth:\n",
    "    for j in rate:\n",
    "        for k in estimators:\n",
    "            model, ans = grid_search(i,j,k)\n",
    "            if get_mse(ans, y_valid) < best_mse:\n",
    "                best_model = model\n",
    "                best_mse = get_mse(ans, y_valid)"
   ]
  },
  {
   "cell_type": "code",
   "execution_count": 10,
   "metadata": {},
   "outputs": [
    {
     "name": "stdout",
     "output_type": "stream",
     "text": [
      "Best Mean Squared Error on validation set is: 1.3186185390174163\n",
      "Best Mean Squared Error on testing set is: 1.3170175820944408\n"
     ]
    }
   ],
   "source": [
    "pred = best_model.predict(X_test)\n",
    "print('Best Mean Squared Error on validation set is: ' + str(best_mse))\n",
    "print('Best Mean Squared Error on testing set is: ' + str(get_mse(pred, y_test)))"
   ]
  }
 ],
 "metadata": {
  "kernelspec": {
   "display_name": "Python 3",
   "language": "python",
   "name": "python3"
  },
  "language_info": {
   "codemirror_mode": {
    "name": "ipython",
    "version": 3
   },
   "file_extension": ".py",
   "mimetype": "text/x-python",
   "name": "python",
   "nbconvert_exporter": "python",
   "pygments_lexer": "ipython3",
   "version": "3.7.3"
  }
 },
 "nbformat": 4,
 "nbformat_minor": 2
}
