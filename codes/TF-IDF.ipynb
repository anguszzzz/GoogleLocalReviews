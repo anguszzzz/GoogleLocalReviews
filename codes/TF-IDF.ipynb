{
 "cells": [
  {
   "cell_type": "code",
   "execution_count": 27,
   "metadata": {},
   "outputs": [],
   "source": [
    "from collections import defaultdict,Counter\n",
    "from random import shuffle\n",
    "from sklearn.model_selection import train_test_split\n",
    "import numpy\n",
    "import urllib\n",
    "import scipy.optimize\n",
    "import random\n",
    "from collections import defaultdict\n",
    "import nltk\n",
    "import string\n",
    "from nltk.stem.porter import *\n",
    "from sklearn import linear_model"
   ]
  },
  {
   "cell_type": "code",
   "execution_count": 3,
   "metadata": {},
   "outputs": [],
   "source": [
    "allReviews = []\n",
    "with open('../CA_reviews.txt',encoding='utf-8') as f:\n",
    "    for l in f:\n",
    "        allReviews.append(eval(l))\n",
    "            \n",
    "middleSet,testSet = train_test_split(allReviews,test_size=0.2)\n",
    "trainSet,validSet = train_test_split(middleSet,test_size=0.125)"
   ]
  },
  {
   "cell_type": "code",
   "execution_count": null,
   "metadata": {},
   "outputs": [],
   "source": [
    "def get_mse(ans, label):\n",
    "    mse = 0\n",
    "    for i,j in zip(ans, label):\n",
    "        mse += (i - j) ** 2\n",
    "    mse /= len(ans)\n",
    "    return mse"
   ]
  },
  {
   "cell_type": "code",
   "execution_count": 60,
   "metadata": {},
   "outputs": [],
   "source": [
    "docNo = 0\n",
    "wordDoc = defaultdict(int)\n",
    "wordFrequency = defaultdict(dict)\n",
    "for d in allReviews:\n",
    "    if d['reviewText'] is None:\n",
    "        continue\n",
    "    r_sub = ''.join([c for c in d['reviewText'].lower() if not c in punctuation])\n",
    "    appeared = set()\n",
    "    temp = r_sub.split()\n",
    "    for i in range(len(temp)-1):\n",
    "        w = temp[i] + \" \" + temp[i+1]\n",
    "        if not wordFrequency[docNo].get(w):\n",
    "            wordFrequency[docNo][w] = 0\n",
    "        wordFrequency[docNo][w] += 1\n",
    "        if w in appeared:\n",
    "            continue\n",
    "        appeared.add(w)\n",
    "        wordDoc[w] += 1\n",
    "    docNo += 1"
   ]
  },
  {
   "cell_type": "code",
   "execution_count": 61,
   "metadata": {},
   "outputs": [],
   "source": [
    "wordCount = defaultdict(int)\n",
    "punctuation = set(string.punctuation)\n",
    "stemmer = PorterStemmer()\n",
    "for d in allReviews:\n",
    "    if d['reviewText'] is None:\n",
    "        continue\n",
    "    r = ''.join([c for c in d['reviewText'].lower() if not c in punctuation])\n",
    "    words = r.split()\n",
    "    for i in range(len(words)-1):\n",
    "        #w = stemmer.stem(w) # with stemming\n",
    "#       wordCount[w] += 1\n",
    "        wordCount[words[i] + \" \" + words[i+1]] += 1\n",
    "\n",
    "mostPopular = [(wordCount[w] , w) for w in wordCount]\n",
    "mostPopular.sort()\n",
    "mostPopular.reverse()\n",
    "\n",
    "words = [x[1] for x in mostPopular[:1000]]"
   ]
  },
  {
   "cell_type": "code",
   "execution_count": 55,
   "metadata": {},
   "outputs": [],
   "source": [
    "def get_tf_feat(data):\n",
    "    X = []\n",
    "    y = []\n",
    "    docId = 0\n",
    "    for d in data:\n",
    "        if d['reviewText'] is None:\n",
    "            continue\n",
    "        X.append(feature(d, docId))\n",
    "        docId += 1\n",
    "        y.append(d['rating'])\n",
    "    return X, y"
   ]
  },
  {
   "cell_type": "code",
   "execution_count": 63,
   "metadata": {},
   "outputs": [],
   "source": [
    "X, y = get_tf_feat(allReviews)"
   ]
  },
  {
   "cell_type": "code",
   "execution_count": 71,
   "metadata": {},
   "outputs": [],
   "source": [
    "### TF-IDF as feature for modelling\n",
    "docNum = docNo\n",
    "wordId = dict(zip(words, range(len(words))))\n",
    "wordSet = set(words)\n",
    "\n",
    "def feature(datum, coeff):\n",
    "    feat = [0]*len(words)\n",
    "    r = ''.join([c for c in datum['reviewText'].lower() if not c in punctuation])\n",
    "    words_temp = r.split()\n",
    "    wordNum = len(words_temp)\n",
    "    for i in range(len(words_temp)-1):\n",
    "        w = words_temp[i] + \" \" + words_temp[i+1]\n",
    "        if w in wordSet:\n",
    "            idf = numpy.log10(docNum / wordDoc[w])\n",
    "            tf = wordFrequency[coeff][w] / wordNum\n",
    "            feat[wordId[w]] = tf*idf\n",
    "    feat.append(1) #offset\n",
    "    return feat\n",
    "\n",
    "middleset,X_tf_test,y_middleset,y_tf_test = train_test_split(X,y,test_size=0.2)\n",
    "X_tf_train,X_tf_valid,y_tf_train,y_tf_valid = train_test_split(middleset, y_middleset, test_size=0.125)\n",
    "\n",
    "# model = xgb.XGBRegressor(max_depth=10, learning_rate=0.5, n_estimators=80, silent=False, objective='reg:squarederror')\n",
    "# model.fit(X_tf_train, y_tf_train)\n",
    "# ans = model.predict(X_tf_test)\n",
    "# get_mse(ans, y_tf_test)"
   ]
  },
  {
   "cell_type": "code",
   "execution_count": 72,
   "metadata": {},
   "outputs": [],
   "source": [
    "best_model = None\n",
    "best_mse = 10\n",
    "def grid_search(depth, rate, estimators):\n",
    "    temp_mse = best_mse\n",
    "    model = xgb.XGBRegressor(max_depth=depth, learning_rate=rate, n_estimators=estimators, silent=False, objective='reg:squarederror')\n",
    "    model.fit(X_tf_train, y_tf_train)\n",
    "    ans = model.predict(X_tf_valid)\n",
    "    return model, ans\n",
    "\n",
    "depth = [5,10,15]\n",
    "rate = [0.1,0.3,0.6,0.9]\n",
    "estimators=[40,80,160]\n",
    "\n",
    "for i in depth:\n",
    "    for j in rate:\n",
    "        for k in estimators:\n",
    "            model, ans = grid_search(i,j,k)\n",
    "            if get_mse(ans, y_tf_valid) < best_mse:\n",
    "                best_model = model\n",
    "                best_mse = get_mse(ans, y_tf_valid)"
   ]
  },
  {
   "cell_type": "code",
   "execution_count": 73,
   "metadata": {},
   "outputs": [
    {
     "name": "stdout",
     "output_type": "stream",
     "text": [
      "Best Mean Squared Error on validation set is: 1.0151054805303883\n",
      "Best Mean Squared Error on testing set is: 1.0056020665664842\n"
     ]
    }
   ],
   "source": [
    "pred = best_model.predict(X_tf_test)\n",
    "print('Best Mean Squared Error on validation set is: ' + str(best_mse))\n",
    "print('Best Mean Squared Error on testing set is: ' + str(get_mse(pred, y_tf_test)))"
   ]
  }
 ],
 "metadata": {
  "kernelspec": {
   "display_name": "Python 3",
   "language": "python",
   "name": "python3"
  },
  "language_info": {
   "codemirror_mode": {
    "name": "ipython",
    "version": 3
   },
   "file_extension": ".py",
   "mimetype": "text/x-python",
   "name": "python",
   "nbconvert_exporter": "python",
   "pygments_lexer": "ipython3",
   "version": "3.7.3"
  }
 },
 "nbformat": 4,
 "nbformat_minor": 2
}
